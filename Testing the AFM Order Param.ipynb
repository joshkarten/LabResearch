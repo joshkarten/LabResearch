{
 "cells": [
  {
   "cell_type": "code",
   "execution_count": 1,
   "metadata": {},
   "outputs": [],
   "source": [
    "from ClassesSim import MCCTClassical\n",
    "import numpy as np \n",
    "import matplotlib.pyplot as plt\n",
    "from fractions import Fraction\n",
    "def binder(param):\n",
    "    return 1-np.average(param**4, axis=0)/(3*np.average(param**2,axis=0)**2)\n",
    "def binderr(param):\n",
    "    first = -1/(3*np.average(param**2,axis=0)**2) * np.std((param)**4,axis=0,ddof=1)/np.sqrt(len(param[:,0,0,0]))\n",
    "    second = np.average(param**4, axis=0)/(np.average(param**2,axis=0)**3)*np.std(param*2,axis=0,ddof=1)/np.sqrt(len(param[:,0,0,0]))\n",
    "    return np.sqrt(first**2+second**2)"
   ]
  },
  {
   "cell_type": "code",
   "execution_count": 2,
   "metadata": {},
   "outputs": [
    {
     "name": "stderr",
     "output_type": "stream",
     "text": [
      "c:\\Users\\milkk\\LabResearch\\ClassesSim.py:117: RuntimeWarning: overflow encountered in exp\n",
      "  return np.exp(-beta * (final - initial))*self.boltzmannMod\n"
     ]
    }
   ],
   "source": [
    "MC = MCCTClassical(10,10,10,int(1e6)//100,[0,0.1,1,100],[0,50,100],5,-1,0,1)\n",
    "MC.Simulation()"
   ]
  },
  {
   "cell_type": "code",
   "execution_count": 3,
   "metadata": {},
   "outputs": [
    {
     "name": "stdout",
     "output_type": "stream",
     "text": [
      "-1.0\n"
     ]
    }
   ],
   "source": [
    "print(np.min(MC.recordtot))"
   ]
  },
  {
   "cell_type": "code",
   "execution_count": 4,
   "metadata": {},
   "outputs": [
    {
     "data": {
      "text/html": [
       "<div>\n",
       "<style scoped>\n",
       "    .dataframe tbody tr th:only-of-type {\n",
       "        vertical-align: middle;\n",
       "    }\n",
       "\n",
       "    .dataframe tbody tr th {\n",
       "        vertical-align: top;\n",
       "    }\n",
       "\n",
       "    .dataframe thead th {\n",
       "        text-align: right;\n",
       "    }\n",
       "</style>\n",
       "<table border=\"1\" class=\"dataframe\">\n",
       "  <thead>\n",
       "    <tr style=\"text-align: right;\">\n",
       "      <th></th>\n",
       "      <th>0</th>\n",
       "      <th>1</th>\n",
       "      <th>2</th>\n",
       "    </tr>\n",
       "  </thead>\n",
       "  <tbody>\n",
       "    <tr>\n",
       "      <th>0</th>\n",
       "      <td>0.028</td>\n",
       "      <td>-0.012</td>\n",
       "      <td>-0.012</td>\n",
       "    </tr>\n",
       "    <tr>\n",
       "      <th>1</th>\n",
       "      <td>-0.124</td>\n",
       "      <td>-0.020</td>\n",
       "      <td>-0.096</td>\n",
       "    </tr>\n",
       "    <tr>\n",
       "      <th>2</th>\n",
       "      <td>-1.000</td>\n",
       "      <td>-1.000</td>\n",
       "      <td>-1.000</td>\n",
       "    </tr>\n",
       "    <tr>\n",
       "      <th>3</th>\n",
       "      <td>-0.840</td>\n",
       "      <td>-0.880</td>\n",
       "      <td>-0.880</td>\n",
       "    </tr>\n",
       "  </tbody>\n",
       "</table>\n",
       "</div>"
      ],
      "text/plain": [
       "       0      1      2\n",
       "0  0.028 -0.012 -0.012\n",
       "1 -0.124 -0.020 -0.096\n",
       "2 -1.000 -1.000 -1.000\n",
       "3 -0.840 -0.880 -0.880"
      ]
     },
     "execution_count": 4,
     "metadata": {},
     "output_type": "execute_result"
    }
   ],
   "source": [
    "import pandas as pd\n",
    "pd.DataFrame(np.average(MC.recordtot,axis=0)[-1])\n"
   ]
  },
  {
   "cell_type": "code",
   "execution_count": 5,
   "metadata": {},
   "outputs": [
    {
     "data": {
      "text/plain": [
       "<matplotlib.colorbar.Colorbar at 0x2c8e9266240>"
      ]
     },
     "execution_count": 5,
     "metadata": {},
     "output_type": "execute_result"
    },
    {
     "data": {
      "image/png": "[encoded data removed]",
      "text/plain": [
       "<Figure size 640x480 with 2 Axes>"
      ]
     },
     "metadata": {},
     "output_type": "display_data"
    }
   ],
   "source": [
    "fig,ax=plt.subplots()\n",
    "rec=ax.imshow(np.average(MC.recordtot,axis=0)[-1,:,:], origin='lower', interpolation='nearest')\n",
    "fig.colorbar(rec, ax=ax, location ='right', shrink = 1)\n"
   ]
  },
  {
   "cell_type": "code",
   "execution_count": 6,
   "metadata": {},
   "outputs": [
    {
     "name": "stdout",
     "output_type": "stream",
     "text": [
      "1.0 [10  5 10  5]\n",
      "0b1010\n",
      "0b101\n",
      "0b1010\n",
      "0b101\n"
     ]
    }
   ],
   "source": [
    "test = MCCTClassical(4,4,10,100000,[0,0.1,1,10],[0,50,100],10,-1)\n",
    "test.createLattice()\n",
    "for i in range(test.numChains):\n",
    "    if i%2==0:\n",
    "        test.lattice[i]=0b1010\n",
    "    else:\n",
    "        test.lattice[i]=0b0101\n",
    "print(test.LatticeOrderParameter(),test.lattice)\n",
    "for i in test.lattice:\n",
    "    print(bin(i))"
   ]
  },
  {
   "cell_type": "code",
   "execution_count": 13,
   "metadata": {},
   "outputs": [],
   "source": [
    "for i in range(test.numChains):\n",
    "    test.lattice[i]=0b1111"
   ]
  },
  {
   "cell_type": "code",
   "execution_count": 14,
   "metadata": {},
   "outputs": [
    {
     "name": "stdout",
     "output_type": "stream",
     "text": [
      "-0.5 -0.5\n"
     ]
    }
   ],
   "source": [
    "r1=0\n",
    "r2=0\n",
    "for i in range(test.numChains):\n",
    "        r1+= (bin(test.left(test.lattice[i])^test.lattice[i]).count('1'))\n",
    "        r2+= (bin(test.lattice[i]^test.lattice[i-1]).count('1'))\n",
    "\n",
    "r2=  (2*r2/(test.latticeSize)-1)/2\n",
    "r1 = (2*r1/(test.latticeSize)-1)/2\n",
    "print(r1,r2)"
   ]
  },
  {
   "cell_type": "code",
   "execution_count": 15,
   "metadata": {},
   "outputs": [
    {
     "data": {
      "text/plain": [
       "-1.0"
      ]
     },
     "execution_count": 15,
     "metadata": {},
     "output_type": "execute_result"
    }
   ],
   "source": [
    "test.LatticeOrderParameter()"
   ]
  },
  {
   "cell_type": "code",
   "execution_count": 16,
   "metadata": {},
   "outputs": [
    {
     "data": {
      "text/plain": [
       "(-1.0, -1.0)"
      ]
     },
     "execution_count": 16,
     "metadata": {},
     "output_type": "execute_result"
    }
   ],
   "source": [
    "test.order_parameter(0b1111),test.order_parameter(0)"
   ]
  },
  {
   "cell_type": "code",
   "execution_count": 11,
   "metadata": {},
   "outputs": [
    {
     "data": {
      "text/plain": [
       "1.0"
      ]
     },
     "execution_count": 11,
     "metadata": {},
     "output_type": "execute_result"
    }
   ],
   "source": [
    "num = 0b1111\n",
    "num2 = test.dec2int(Fraction(1,3))\n",
    "x=bin(test.left(num2)^num2).count('1')\n",
    "2*x/4-1"
   ]
  },
  {
   "cell_type": "code",
   "execution_count": 21,
   "metadata": {},
   "outputs": [
    {
     "data": {
      "text/plain": [
       "1.0"
      ]
     },
     "execution_count": 21,
     "metadata": {},
     "output_type": "execute_result"
    }
   ],
   "source": [
    "test.order_parameter(0b1010)"
   ]
  }
 ],
 "metadata": {
  "kernelspec": {
   "display_name": ".venv",
   "language": "python",
   "name": "python3"
  },
  "language_info": {
   "codemirror_mode": {
    "name": "ipython",
    "version": 3
   },
   "file_extension": ".py",
   "mimetype": "text/x-python",
   "name": "python",
   "nbconvert_exporter": "python",
   "pygments_lexer": "ipython3",
   "version": "3.12.4"
  }
 },
 "nbformat": 4,
 "nbformat_minor": 2
}
