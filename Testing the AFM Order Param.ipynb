{
 "cells": [
  {
   "cell_type": "code",
   "execution_count": 2,
   "metadata": {},
   "outputs": [],
   "source": [
    "from ClassesSim import MCCTClassical\n",
    "import numpy as np \n",
    "import matplotlib.pyplot as plt\n",
    "from fractions import Fraction\n",
    "def binder(param):\n",
    "    return 1-np.average(param**4, axis=0)/(3*np.average(param**2,axis=0)**2)\n",
    "def binderr(param):\n",
    "    first = -1/(3*np.average(param**2,axis=0)**2) * np.std((param)**4,axis=0,ddof=1)/np.sqrt(len(param[:,0,0,0]))\n",
    "    second = np.average(param**4, axis=0)/(np.average(param**2,axis=0)**3)*np.std(param*2,axis=0,ddof=1)/np.sqrt(len(param[:,0,0,0]))\n",
    "    return np.sqrt(first**2+second**2)"
   ]
  },
  {
   "cell_type": "code",
   "execution_count": 3,
   "metadata": {},
   "outputs": [
    {
     "name": "stderr",
     "output_type": "stream",
     "text": [
      "/Users/joshuakarten/VSCODE/LabResearch/ClassesSim.py:117: RuntimeWarning: overflow encountered in exp\n",
      "  return np.exp(-beta * (final - initial))*self.boltzmannMod\n"
     ]
    }
   ],
   "source": [
    "MC = MCCTClassical(10,10,10,int(1e6)//100,[0,0.1,1,100],[0,50,100],5,-1,0,1)\n",
    "MC.Simulation()"
   ]
  },
  {
   "cell_type": "code",
   "execution_count": 4,
   "metadata": {},
   "outputs": [
    {
     "name": "stdout",
     "output_type": "stream",
     "text": [
      "-1.0\n"
     ]
    }
   ],
   "source": [
    "print(np.min(MC.recordtot))"
   ]
  },
  {
   "cell_type": "code",
   "execution_count": 5,
   "metadata": {},
   "outputs": [
    {
     "data": {
      "text/html": [
       "<div>\n",
       "<style scoped>\n",
       "    .dataframe tbody tr th:only-of-type {\n",
       "        vertical-align: middle;\n",
       "    }\n",
       "\n",
       "    .dataframe tbody tr th {\n",
       "        vertical-align: top;\n",
       "    }\n",
       "\n",
       "    .dataframe thead th {\n",
       "        text-align: right;\n",
       "    }\n",
       "</style>\n",
       "<table border=\"1\" class=\"dataframe\">\n",
       "  <thead>\n",
       "    <tr style=\"text-align: right;\">\n",
       "      <th></th>\n",
       "      <th>0</th>\n",
       "      <th>1</th>\n",
       "      <th>2</th>\n",
       "    </tr>\n",
       "  </thead>\n",
       "  <tbody>\n",
       "    <tr>\n",
       "      <th>0</th>\n",
       "      <td>-0.004</td>\n",
       "      <td>-0.044</td>\n",
       "      <td>-0.056</td>\n",
       "    </tr>\n",
       "    <tr>\n",
       "      <th>1</th>\n",
       "      <td>-0.112</td>\n",
       "      <td>-0.140</td>\n",
       "      <td>-0.056</td>\n",
       "    </tr>\n",
       "    <tr>\n",
       "      <th>2</th>\n",
       "      <td>-1.000</td>\n",
       "      <td>-1.000</td>\n",
       "      <td>-1.000</td>\n",
       "    </tr>\n",
       "    <tr>\n",
       "      <th>3</th>\n",
       "      <td>-0.960</td>\n",
       "      <td>-0.880</td>\n",
       "      <td>-0.920</td>\n",
       "    </tr>\n",
       "  </tbody>\n",
       "</table>\n",
       "</div>"
      ],
      "text/plain": [
       "       0      1      2\n",
       "0 -0.004 -0.044 -0.056\n",
       "1 -0.112 -0.140 -0.056\n",
       "2 -1.000 -1.000 -1.000\n",
       "3 -0.960 -0.880 -0.920"
      ]
     },
     "execution_count": 5,
     "metadata": {},
     "output_type": "execute_result"
    }
   ],
   "source": [
    "import pandas as pd\n",
    "pd.DataFrame(np.average(MC.recordtot,axis=0)[-1])\n"
   ]
  },
  {
   "cell_type": "code",
   "execution_count": 6,
   "metadata": {},
   "outputs": [
    {
     "data": {
      "text/plain": [
       "<matplotlib.colorbar.Colorbar at 0x1233ef440>"
      ]
     },
     "execution_count": 6,
     "metadata": {},
     "output_type": "execute_result"
    },
    {
     "data": {
      "image/png": "[encoded data removed]",
      "text/plain": [
       "<Figure size 640x480 with 2 Axes>"
      ]
     },
     "metadata": {},
     "output_type": "display_data"
    }
   ],
   "source": [
    "fig,ax=plt.subplots()\n",
    "rec=ax.imshow(np.average(MC.recordtot,axis=0)[-1,:,:], origin='lower', interpolation='nearest')\n",
    "fig.colorbar(rec, ax=ax, location ='right', shrink = 1)\n"
   ]
  },
  {
   "cell_type": "code",
   "execution_count": 7,
   "metadata": {},
   "outputs": [
    {
     "name": "stdout",
     "output_type": "stream",
     "text": [
      "1.0 [10  5 10  5]\n",
      "0b1010\n",
      "0b101\n",
      "0b1010\n",
      "0b101\n"
     ]
    }
   ],
   "source": [
    "test = MCCTClassical(4,4,10,100000,[0,0.1,1,10],[0,50,100],10,-1)\n",
    "test.createLattice()\n",
    "for i in range(test.numChains):\n",
    "    if i%2==0:\n",
    "        test.lattice[i]=0b1010\n",
    "    else:\n",
    "        test.lattice[i]=0b0101\n",
    "print(test.LatticeOrderParameter(),test.lattice)\n",
    "for i in test.lattice:\n",
    "    print(bin(i))"
   ]
  },
  {
   "cell_type": "code",
   "execution_count": 8,
   "metadata": {},
   "outputs": [],
   "source": [
    "for i in range(test.numChains):\n",
    "    test.lattice[i]=0b1111"
   ]
  },
  {
   "cell_type": "code",
   "execution_count": 9,
   "metadata": {},
   "outputs": [
    {
     "name": "stdout",
     "output_type": "stream",
     "text": [
      "-0.5 -0.5\n"
     ]
    }
   ],
   "source": [
    "r1=0\n",
    "r2=0\n",
    "for i in range(test.numChains):\n",
    "        r1+= (bin(test.left(test.lattice[i])^test.lattice[i]).count('1'))\n",
    "        r2+= (bin(test.lattice[i]^test.lattice[i-1]).count('1'))\n",
    "\n",
    "r2=  (2*r2/(test.latticeSize)-1)/2\n",
    "r1 = (2*r1/(test.latticeSize)-1)/2\n",
    "print(r1,r2)"
   ]
  },
  {
   "cell_type": "code",
   "execution_count": 10,
   "metadata": {},
   "outputs": [
    {
     "data": {
      "text/plain": [
       "-1.0"
      ]
     },
     "execution_count": 10,
     "metadata": {},
     "output_type": "execute_result"
    }
   ],
   "source": [
    "test.LatticeOrderParameter()"
   ]
  },
  {
   "cell_type": "code",
   "execution_count": 11,
   "metadata": {},
   "outputs": [
    {
     "data": {
      "text/plain": [
       "(-1.0, -1.0)"
      ]
     },
     "execution_count": 11,
     "metadata": {},
     "output_type": "execute_result"
    }
   ],
   "source": [
    "test.order_parameter(0b1111),test.order_parameter(0)"
   ]
  },
  {
   "cell_type": "code",
   "execution_count": 12,
   "metadata": {},
   "outputs": [
    {
     "data": {
      "text/plain": [
       "1.0"
      ]
     },
     "execution_count": 12,
     "metadata": {},
     "output_type": "execute_result"
    }
   ],
   "source": [
    "num = 0b1111\n",
    "num2 = test.dec2int(Fraction(1,3))\n",
    "x=bin(test.left(num2)^num2).count('1')\n",
    "2*x/4-1"
   ]
  },
  {
   "cell_type": "code",
   "execution_count": 13,
   "metadata": {},
   "outputs": [
    {
     "data": {
      "text/plain": [
       "1.0"
      ]
     },
     "execution_count": 13,
     "metadata": {},
     "output_type": "execute_result"
    }
   ],
   "source": [
    "test.order_parameter(0b1010)"
   ]
  },
  {
   "cell_type": "code",
   "execution_count": 16,
   "metadata": {},
   "outputs": [],
   "source": [
    "test2d = MCCTClassical(10,10,100,100000,[0],[0],1,-1)"
   ]
  },
  {
   "cell_type": "code",
   "execution_count": 21,
   "metadata": {},
   "outputs": [
    {
     "data": {
      "text/plain": [
       "numpy.float64"
      ]
     },
     "execution_count": 21,
     "metadata": {},
     "output_type": "execute_result"
    }
   ],
   "source": []
  },
  {
   "cell_type": "code",
   "execution_count": 23,
   "metadata": {},
   "outputs": [
    {
     "name": "stdout",
     "output_type": "stream",
     "text": [
      "[682 341 682 341 682 341 682 341 682 341]\n",
      "1.0\n"
     ]
    }
   ],
   "source": [
    "afmArray = np.zeros((10),dtype=int)\n",
    "for i in range(5):\n",
    "    afmArray[2*i]=int(0b1010101010)\n",
    "    afmArray[2*i+1]=int(0b0101010101)\n",
    "print(afmArray)\n",
    "test2d.lattice=afmArray\n",
    "print(test2d.LatticeOrderParameter2d())\n"
   ]
  },
  {
   "cell_type": "code",
   "execution_count": 18,
   "metadata": {},
   "outputs": [
    {
     "ename": "TypeError",
     "evalue": "ufunc 'right_shift' not supported for the input types, and the inputs could not be safely coerced to any supported types according to the casting rule ''safe''",
     "output_type": "error",
     "traceback": [
      "\u001b[0;31m---------------------------------------------------------------------------\u001b[0m",
      "\u001b[0;31mTypeError\u001b[0m                                 Traceback (most recent call last)",
      "Cell \u001b[0;32mIn[18], line 2\u001b[0m\n\u001b[1;32m      1\u001b[0m \u001b[38;5;28;01mfor\u001b[39;00m i \u001b[38;5;129;01min\u001b[39;00m afmArray:\n\u001b[0;32m----> 2\u001b[0m     \u001b[38;5;28mprint\u001b[39m(\u001b[38;5;28mbin\u001b[39m(\u001b[43mtest2d\u001b[49m\u001b[38;5;241;43m.\u001b[39;49m\u001b[43mleft\u001b[49m\u001b[43m(\u001b[49m\u001b[43mi\u001b[49m\u001b[43m)\u001b[49m\u001b[38;5;241m^\u001b[39mi))\n",
      "File \u001b[0;32m~/VSCODE/LabResearch/ClassesSim.py:69\u001b[0m, in \u001b[0;36mMCCTClassical.left\u001b[0;34m(self, num)\u001b[0m\n\u001b[1;32m     59\u001b[0m \u001b[38;5;250m\u001b[39m\u001b[38;5;124;03m\"\"\"\u001b[39;00m\n\u001b[1;32m     60\u001b[0m \n\u001b[1;32m     61\u001b[0m \u001b[38;5;124;03m:param num: int\u001b[39;00m\n\u001b[1;32m     62\u001b[0m \u001b[38;5;124;03m:param length: int\u001b[39;00m\n\u001b[1;32m     63\u001b[0m \u001b[38;5;124;03m:return: int\u001b[39;00m\n\u001b[1;32m     64\u001b[0m \u001b[38;5;124;03m\"\"\"\u001b[39;00m\n\u001b[1;32m     65\u001b[0m \u001b[38;5;66;03m#if num >= 2 << (length - 2):\u001b[39;00m\n\u001b[1;32m     66\u001b[0m \u001b[38;5;66;03m#    num = (num << 1) ^ 1\u001b[39;00m\n\u001b[1;32m     67\u001b[0m \u001b[38;5;66;03m#else:\u001b[39;00m\n\u001b[1;32m     68\u001b[0m \u001b[38;5;66;03m#    num = num << 1\u001b[39;00m\n\u001b[0;32m---> 69\u001b[0m \u001b[38;5;28;01mreturn\u001b[39;00m (\u001b[43mnum\u001b[49m\u001b[38;5;241;43m>>\u001b[39;49m\u001b[38;5;28;43mself\u001b[39;49m\u001b[38;5;241;43m.\u001b[39;49m\u001b[43mLength\u001b[49m\u001b[38;5;241;43m-\u001b[39;49m\u001b[38;5;241;43m1\u001b[39;49m)\u001b[38;5;241m^\u001b[39m(num\u001b[38;5;241m<<\u001b[39m\u001b[38;5;241m1\u001b[39m)\u001b[38;5;241m&\u001b[39m((\u001b[38;5;241m1\u001b[39m\u001b[38;5;241m<<\u001b[39m\u001b[38;5;28mself\u001b[39m\u001b[38;5;241m.\u001b[39mLength)\u001b[38;5;241m-\u001b[39m\u001b[38;5;241m1\u001b[39m)\n",
      "\u001b[0;31mTypeError\u001b[0m: ufunc 'right_shift' not supported for the input types, and the inputs could not be safely coerced to any supported types according to the casting rule ''safe''"
     ]
    }
   ],
   "source": [
    "for i in afmArray:\n",
    "    print(bin(test2d.left(i)^i))"
   ]
  },
  {
   "cell_type": "code",
   "execution_count": null,
   "metadata": {},
   "outputs": [],
   "source": []
  }
 ],
 "metadata": {
  "kernelspec": {
   "display_name": ".venv",
   "language": "python",
   "name": "python3"
  },
  "language_info": {
   "codemirror_mode": {
    "name": "ipython",
    "version": 3
   },
   "file_extension": ".py",
   "mimetype": "text/x-python",
   "name": "python",
   "nbconvert_exporter": "python",
   "pygments_lexer": "ipython3",
   "version": "3.12.8"
  }
 },
 "nbformat": 4,
 "nbformat_minor": 2
}
