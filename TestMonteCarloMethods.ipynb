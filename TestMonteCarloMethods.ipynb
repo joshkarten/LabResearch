{
 "cells": [
  {
   "cell_type": "code",
   "execution_count": 23,
   "metadata": {},
   "outputs": [],
   "source": [
    "import numpy as np\n",
    "import random\n",
    "from fractions import Fraction\n",
    "from Commands import dec2int, bernoulli, control, order_parameter\n",
    "from MonteCarloCommands import energy, boltzmann_probability\n",
    "import matplotlib.pyplot as plt\n",
    "\n",
    "\n"
   ]
  },
  {
   "cell_type": "code",
   "execution_count": 24,
   "metadata": {},
   "outputs": [],
   "source": [
    "\n",
    "length = 100\n",
    "random.seed(10)\n",
    "times = 5\n",
    "low_prob = 00\n",
    "high_prob = 100 + 1\n",
    "Beta =.1\n",
    "K = 1 \n",
    "num_chains = 2\n",
    "spacing = 10\n",
    "num_points = int(np.ceil((high_prob-low_prob)/spacing))\n",
    "\n",
    "\n"
   ]
  },
  {
   "cell_type": "code",
   "execution_count": 26,
   "metadata": {},
   "outputs": [
    {
     "name": "stdout",
     "output_type": "stream",
     "text": [
      "0b1010011011101011001110110111101001011100001011001001010000101101101111001011010111101001001111010100 0b10101110111101110000000111111111011001111010001011011011100001001100111010110111110100101011110100\n",
      "1111011101110011101100001010010010011011101110101001010101011110111101110101100000111001110100111110 1011010110100111000100101001001011100001001001010100011100101110100010010001101010000100101011111100\n"
     ]
    }
   ],
   "source": [
    "rep1 = random.getrandbits(length)\n",
    "rep2 = random.getrandbits(length)\n",
    "print(bin(rep1),bin(rep2))\n",
    "lattice = [format(rep1, '0'+str(length)+'b'), format(rep2, '0'+str(length)+'b')]\n",
    "                       #format(rep3, '0'+str(length)+'b')]\n",
    "for repeat in range((length**2)):\n",
    "    for y_pos in range(0, length): # this section takes about 1/100 s at length = 100, accounts for most of the run time\n",
    "        for x_pos in range(0, num_chains):\n",
    "            E_i = energy(x_pos, y_pos, lattice, num_chains, length, K, True)\n",
    "            old = lattice[x_pos]\n",
    "            # noinspection PyTypeChecker\n",
    "            lattice[x_pos] = format(int(lattice[x_pos], base=2) ^ (1 << (length - y_pos - 1)), '0' + str(length) + 'b')\n",
    "            E_f = energy(x_pos, y_pos, lattice, num_chains, length, K, True)\n",
    "            if random.random() <= boltzmann_probability(E_i, E_f, Beta):\n",
    "                pass\n",
    "            else:\n",
    "                lattice[x_pos] = old\n",
    "print(lattice[0],lattice[1])"
   ]
  }
 ],
 "metadata": {
  "kernelspec": {
   "display_name": "Python 3",
   "language": "python",
   "name": "python3"
  },
  "language_info": {
   "codemirror_mode": {
    "name": "ipython",
    "version": 3
   },
   "file_extension": ".py",
   "mimetype": "text/x-python",
   "name": "python",
   "nbconvert_exporter": "python",
   "pygments_lexer": "ipython3",
   "version": "3.12.3"
  }
 },
 "nbformat": 4,
 "nbformat_minor": 2
}
