{
 "cells": [
  {
   "cell_type": "code",
   "execution_count": 37,
   "metadata": {},
   "outputs": [],
   "source": [
    "import numpy as np\n",
    "import random\n",
    "from fractions import Fraction\n",
    "from Commands import dec2int, bernoulli, control, order_parameter\n",
    "from MonteCarloCommands import energy, boltzmann_probability\n",
    "import matplotlib.pyplot as plt\n",
    "\n",
    "\n"
   ]
  },
  {
   "cell_type": "code",
   "execution_count": 38,
   "metadata": {},
   "outputs": [],
   "source": [
    "\n",
    "length = 100\n",
    "#random.seed(10)\n",
    "times = 1\n",
    "low_prob = 00\n",
    "high_prob = 100 + 1\n",
    "Beta =1000\n",
    "K = -1 \n",
    "num_chains = 2\n",
    "spacing = 10\n",
    "num_points = int(np.ceil((high_prob-low_prob)/spacing))\n",
    "time_interval = 10\n",
    "simulation_time = length**2\n"
   ]
  },
  {
   "cell_type": "code",
   "execution_count": 39,
   "metadata": {},
   "outputs": [],
   "source": [
    "if (simulation_time) % 10 == 0:\n",
    "#record = np.zeros([high_prob-low_prob, 1], dtype=float)\n",
    "    time_size = (simulation_time)//time_interval # number of data points along the time axis\n",
    "\n",
    "    #record1 = np.zeros([num_points, time_size], dtype=float) #[probability, time]\n",
    "    #record2 = np.zeros([num_points, time_size], dtype=float)\n",
    "    recordferro = np.zeros([num_points,time_size], dtype=float) # set up for ferromagnetic order parameter\n",
    "    #record3 = np.zeros([high_prob-low_prob, 1], dtype=float)\n",
    "    #recordlong = np.zeros((num_points, length, time_size), dtype=float) #[probability, position, time]\n",
    "    staggeredMagnetization = np.zeros((num_points,time_size), dtype=float)\n",
    "    #totalparam = np.zeros((num_points,time_size))\n",
    "    #totrecordlong = np.zeros((num_points, time_size))\n",
    "    \n",
    "else: \n",
    "    time_size = (simulation_time)//time_interval # number of data points along the time axis\n",
    "\n",
    "    #record1 = np.zeros([num_points, time_size], dtype=float) #[probability, time]\n",
    "    #record2 = np.zeros([num_points, time_size], dtype=float)\n",
    "    recordferro = np.zeros([num_points,time_size], dtype=float) # set up for ferromagnetic order parameter\n",
    "    #record3 = np.zeros([high_prob-low_prob, 1], dtype=float)\n",
    "    #recordlong = np.zeros((num_points, length, time_size), dtype=float)\n",
    "    staggeredMagnetization = np.zeros((num_points,time_size), dtype=float)\n",
    "    #totalparam = np.zeros((num_points,time_size))\n",
    "    #totrecordlong = np.zeros((num_points, time_size))\n"
   ]
  },
  {
   "cell_type": "code",
   "execution_count": 40,
   "metadata": {},
   "outputs": [
    {
     "name": "stdout",
     "output_type": "stream",
     "text": [
      "0b110001111100011100111100100001111010100001100010101011001110011100101011010001100111000011000011010 0b1011010011110011000110000101101110011010010000110101111000101010101011001011111010011110100110110011\n"
     ]
    },
    {
     "name": "stderr",
     "output_type": "stream",
     "text": [
      "d:\\LabResearch\\LabResearch\\MonteCarloCommands.py:12: RuntimeWarning: overflow encountered in exp\n",
      "  return 1/(1+np.exp(-beta * (final - initial)))\n"
     ]
    },
    {
     "name": "stdout",
     "output_type": "stream",
     "text": [
      "0101101010101010101001010110101001010101101011010101010101010101010101010101010101011011011011001010 1010010101010101010110101001010110101010010100101010101010101010101010101010101010100100100100110101\n"
     ]
    }
   ],
   "source": [
    "for repeat in range(times):\n",
    "    rep1 = random.getrandbits(length)\n",
    "    rep2 = random.getrandbits(length)\n",
    "    print(bin(rep1),bin(rep2))\n",
    "    lattice = [format(rep1, '0'+str(length)+'b'), format(rep2, '0'+str(length)+'b')]\n",
    "                       #format(rep3, '0'+str(length)+'b')]\n",
    "    recordferro[0, 0] += ((lattice[0].count('1')+lattice[1].count('1')-lattice[0].count('0')-lattice[1].count('0'))/(2*length))/times\n",
    "    for y in range(length):\n",
    "        for x in range(num_chains):\n",
    "            staggeredMagnetization[0, 0] += ((-1)**(x+y+~int(lattice[x][y]))/(2*length))/times\n",
    "\n",
    "    for i in range((simulation_time)):\n",
    "        for y_pos in range(0, length): # this section takes about 10^-6 s at length = 100, accounts for most of the run time\n",
    "            for x_pos in range(0, num_chains):\n",
    "                E_i = energy(x_pos, y_pos, lattice, num_chains, length, K, num_chains==2)\n",
    "                old = lattice[x_pos]\n",
    "                # noinspection PyTypeChecker\n",
    "                lattice[x_pos] = format(int(lattice[x_pos], base=2) ^ (1 << (length - y_pos - 1)), '0' + str(length) + 'b')\n",
    "                E_f = energy(x_pos, y_pos, lattice, num_chains, length, K, num_chains==2)\n",
    "                if random.random() <= boltzmann_probability(E_i, E_f, Beta):\n",
    "                    pass\n",
    "                else:\n",
    "                    lattice[x_pos] = old\n",
    "        if (i%time_interval)==0 and i !=0:\n",
    "            recordferro[0, i//time_interval] += ((lattice[0].count('1')+lattice[1].count('1')-lattice[0].count('0')-lattice[1].count('0'))/(2*length))/times\n",
    "\n",
    "            for y in range(length):\n",
    "                for x in range(num_chains):\n",
    "                    staggeredMagnetization[0, i//time_interval] += ((-1)**(x+y+~int(lattice[x][y]))/(2*length))/times\n",
    "            staggeredMagnetization= np.abs(staggeredMagnetization)\n",
    "            recordferro= np.abs(recordferro)\n",
    "    print(lattice[0],lattice[1])\n"
   ]
  },
  {
   "cell_type": "code",
   "execution_count": 41,
   "metadata": {},
   "outputs": [
    {
     "data": {
      "image/png": "[encoded data removed]",
      "text/plain": [
       "<Figure size 640x480 with 1 Axes>"
      ]
     },
     "metadata": {},
     "output_type": "display_data"
    },
    {
     "data": {
      "image/png": "[encoded data removed]",
      "text/plain": [
       "<Figure size 640x480 with 1 Axes>"
      ]
     },
     "metadata": {},
     "output_type": "display_data"
    },
    {
     "name": "stdout",
     "output_type": "stream",
     "text": [
      "0.2400000000000001\n"
     ]
    }
   ],
   "source": [
    "fig, ax = plt.subplots()\n",
    "ax.plot( np.linspace(0,simulation_time,time_size), np.abs(recordferro[0,:]), label= \"Magnetization\")\n",
    "plt.show()\n",
    "fig, ax = plt.subplots()\n",
    "ax.plot( np.linspace(0,simulation_time,time_size), staggeredMagnetization[0,:],  label= \"Staggered Magnetization\")\n",
    "plt.show()\n",
    "#plt.imshow(lattice, cmap='hot',interpolation='nearest')\n",
    "print(staggeredMagnetization[0,-1])"
   ]
  }
 ],
 "metadata": {
  "kernelspec": {
   "display_name": "Python 3",
   "language": "python",
   "name": "python3"
  },
  "language_info": {
   "codemirror_mode": {
    "name": "ipython",
    "version": 3
   },
   "file_extension": ".py",
   "mimetype": "text/x-python",
   "name": "python",
   "nbconvert_exporter": "python",
   "pygments_lexer": "ipython3",
   "version": "3.12.3"
  }
 },
 "nbformat": 4,
 "nbformat_minor": 2
}
